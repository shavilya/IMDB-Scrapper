{
 "cells": [
  {
   "cell_type": "code",
   "execution_count": 1,
   "metadata": {},
   "outputs": [],
   "source": [
    "# Importing all the required libraries for web scrapping and file handling in python. \n",
    "\n",
    "import requests\n",
    "from bs4 import BeautifulSoup\n",
    "import pandas as pd \n",
    "import os \n",
    "from datetime import datetime "
   ]
  },
  {
   "cell_type": "code",
   "execution_count": 2,
   "metadata": {},
   "outputs": [],
   "source": [
    "# Initializing all the required lists such as title , rating , year , certification , genre,vote and time. \n",
    "title_list = []\n",
    "rating_list = []\n",
    "year_list = []\n",
    "certification_list = []\n",
    "genre_list = []\n",
    "vote_list = []\n",
    "time_list = []\n"
   ]
  },
  {
   "cell_type": "code",
   "execution_count": 3,
   "metadata": {},
   "outputs": [],
   "source": [
    "# IMDB Scrapper function to scrape 100 pages of imdb using the required genre. \n",
    "\n",
    "def imdb_scraper(genre):\n",
    "    for page in range(1, 101):  # Scrape 100 pages\n",
    "        url = f\"https://www.imdb.com/search/title/?genres={genre}&start={page * 50}&explore=title_type,genres&ref_=adv_prv\"\n",
    "        response = requests.get(url)\n",
    "        soup = BeautifulSoup(response.text, 'html.parser')\n",
    "\n",
    "        movie_containers = soup.find_all('div', class_='lister-item mode-advanced')\n",
    "\n",
    "        for container in movie_containers:\n",
    "            # Extract movie details\n",
    "            title = container.h3.a.text.strip()\n",
    "            title_list.append(title)\n",
    "\n",
    "            rating_element = container.find('div', class_='ratings-imdb-rating')\n",
    "            rating = rating_element.strong.text if rating_element else ''       \n",
    "            rating_list.append(rating)\n",
    "\n",
    "            year = container.h3.find('span', class_='lister-item-year').text.strip('()')\n",
    "            year_list.append(year)\n",
    "\n",
    "            certification = container.find('span', class_='certificate').text if container.find('span', class_='certificate') else ''\n",
    "            certification_list.append(certification) \n",
    "\n",
    "            genres = container.find('span', class_='genre').text.strip()\n",
    "            genre_list.append(genres)\n",
    "\n",
    "            vote_element = container.find('span', attrs={'name': 'nv'})\n",
    "            vote = vote_element['data-value'] if vote_element else ''\n",
    "            vote_list.append(vote)\n",
    "\n",
    "            time_element = container.find('span', class_='runtime')\n",
    "            time = time_element.text.strip() if time_element else ''\n",
    "            time_list.append(time)\n",
    "            \n",
    "\n"
   ]
  },
  {
   "cell_type": "code",
   "execution_count": 4,
   "metadata": {},
   "outputs": [],
   "source": [
    "genre = \"action\"  # Initialize the genre which you want to scrape. \n",
    "\n",
    "imdb_scraper(genre)  # Calling the scrapper function. "
   ]
  },
  {
   "cell_type": "code",
   "execution_count": 5,
   "metadata": {},
   "outputs": [],
   "source": [
    "# Creating a dictionary to store all the lists which are generated using scrapper. \n",
    "\n",
    "imdb_dict = {\n",
    "        'Title' : title_list , \n",
    "        'Rating' : rating_list , \n",
    "        'Year' : year_list ,\n",
    "        'Certification' : certification_list , \n",
    "        'Genre' : genre_list , \n",
    "        'Vote' : vote_list , \n",
    "        'Time' : time_list\n",
    "        }\n",
    "\n"
   ]
  },
  {
   "cell_type": "code",
   "execution_count": 6,
   "metadata": {},
   "outputs": [
    {
     "data": {
      "text/html": [
       "<div>\n",
       "<style scoped>\n",
       "    .dataframe tbody tr th:only-of-type {\n",
       "        vertical-align: middle;\n",
       "    }\n",
       "\n",
       "    .dataframe tbody tr th {\n",
       "        vertical-align: top;\n",
       "    }\n",
       "\n",
       "    .dataframe thead th {\n",
       "        text-align: right;\n",
       "    }\n",
       "</style>\n",
       "<table border=\"1\" class=\"dataframe\">\n",
       "  <thead>\n",
       "    <tr style=\"text-align: right;\">\n",
       "      <th></th>\n",
       "      <th>Title</th>\n",
       "      <th>Rating</th>\n",
       "      <th>Year</th>\n",
       "      <th>Certification</th>\n",
       "      <th>Genre</th>\n",
       "      <th>Vote</th>\n",
       "      <th>Time</th>\n",
       "    </tr>\n",
       "  </thead>\n",
       "  <tbody>\n",
       "    <tr>\n",
       "      <th>0</th>\n",
       "      <td>Superman &amp; Lois</td>\n",
       "      <td>7.8</td>\n",
       "      <td>2021–</td>\n",
       "      <td>Not Rated</td>\n",
       "      <td>Action, Adventure, Drama</td>\n",
       "      <td>36757</td>\n",
       "      <td>42 min</td>\n",
       "    </tr>\n",
       "    <tr>\n",
       "      <th>1</th>\n",
       "      <td>House of the Dragon</td>\n",
       "      <td>8.5</td>\n",
       "      <td>2022–</td>\n",
       "      <td>A</td>\n",
       "      <td>Action, Adventure, Drama</td>\n",
       "      <td>332670</td>\n",
       "      <td></td>\n",
       "    </tr>\n",
       "    <tr>\n",
       "      <th>2</th>\n",
       "      <td>My Adventures with Superman</td>\n",
       "      <td>7.9</td>\n",
       "      <td>2023–</td>\n",
       "      <td></td>\n",
       "      <td>Animation, Action, Adventure</td>\n",
       "      <td>975</td>\n",
       "      <td></td>\n",
       "    </tr>\n",
       "    <tr>\n",
       "      <th>3</th>\n",
       "      <td>One Piece: Wan pîsu</td>\n",
       "      <td>8.9</td>\n",
       "      <td>1999–</td>\n",
       "      <td>7</td>\n",
       "      <td>Animation, Action, Adventure</td>\n",
       "      <td>149760</td>\n",
       "      <td>24 min</td>\n",
       "    </tr>\n",
       "    <tr>\n",
       "      <th>4</th>\n",
       "      <td>Kandahar</td>\n",
       "      <td>6.0</td>\n",
       "      <td>2023</td>\n",
       "      <td>R</td>\n",
       "      <td>Action, Thriller</td>\n",
       "      <td>12363</td>\n",
       "      <td>119 min</td>\n",
       "    </tr>\n",
       "  </tbody>\n",
       "</table>\n",
       "</div>"
      ],
      "text/plain": [
       "                         Title Rating    Year Certification  \\\n",
       "0              Superman & Lois    7.8  2021–      Not Rated   \n",
       "1          House of the Dragon    8.5  2022–              A   \n",
       "2  My Adventures with Superman    7.9  2023–                  \n",
       "3          One Piece: Wan pîsu    8.9  1999–              7   \n",
       "4                     Kandahar    6.0    2023             R   \n",
       "\n",
       "                          Genre    Vote     Time  \n",
       "0      Action, Adventure, Drama   36757   42 min  \n",
       "1      Action, Adventure, Drama  332670           \n",
       "2  Animation, Action, Adventure     975           \n",
       "3  Animation, Action, Adventure  149760   24 min  \n",
       "4              Action, Thriller   12363  119 min  "
      ]
     },
     "execution_count": 6,
     "metadata": {},
     "output_type": "execute_result"
    }
   ],
   "source": [
    "imdb_df = pd.DataFrame.from_dict(imdb_dict)  # Creating a dataframe to save .csv file of imdb dictionary.\n",
    "imdb_df.head()"
   ]
  },
  {
   "cell_type": "code",
   "execution_count": 7,
   "metadata": {},
   "outputs": [],
   "source": [
    "# Naming the csv file and the future versions. {Naming convention} \n",
    "\n",
    "csv_file = f\"{datetime.now().strftime('%m_%d_%Y_%H_%M_%S')}_imdb.csv\"  \n",
    "imdb_df.to_csv('/IMDB Scrapper/Dataset/{}'.format(csv_file))  # Saving the dataframe into .csv "
   ]
  }
 ],
 "metadata": {
  "kernelspec": {
   "display_name": "webscrapper",
   "language": "python",
   "name": "python3"
  },
  "language_info": {
   "codemirror_mode": {
    "name": "ipython",
    "version": 3
   },
   "file_extension": ".py",
   "mimetype": "text/x-python",
   "name": "python",
   "nbconvert_exporter": "python",
   "pygments_lexer": "ipython3",
   "version": "3.10.12"
  },
  "orig_nbformat": 4,
  "vscode": {
   "interpreter": {
    "hash": "a5de0eb3511747baffff99c3af738513a637dd1c1167328c5fd178c6b127ed74"
   }
  }
 },
 "nbformat": 4,
 "nbformat_minor": 2
}
