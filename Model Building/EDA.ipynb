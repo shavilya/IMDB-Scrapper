{
 "cells": [
  {
   "cell_type": "code",
   "execution_count": 1,
   "metadata": {},
   "outputs": [],
   "source": [
    "# Importing all required Libraries \n",
    "\n",
    "import numpy as np # linear algebra\n",
    "import pandas as pd # data processing, CSV file I/O (e.g. pd.read_csv)\n",
    "\n",
    "#For Data Viz. \n",
    "import matplotlib.pyplot as plt\n",
    "import seaborn as sns \n",
    "\n",
    "#For Warnings\n",
    "import warnings\n",
    "warnings.filterwarnings('ignore')\n",
    "\n",
    "#For Options \n",
    "pd.set_option('display.max_columns' , None)\n",
    "pd.set_option('display.max_rows', None)\n"
   ]
  },
  {
   "cell_type": "code",
   "execution_count": 2,
   "metadata": {},
   "outputs": [
    {
     "data": {
      "text/html": [
       "<div>\n",
       "<style scoped>\n",
       "    .dataframe tbody tr th:only-of-type {\n",
       "        vertical-align: middle;\n",
       "    }\n",
       "\n",
       "    .dataframe tbody tr th {\n",
       "        vertical-align: top;\n",
       "    }\n",
       "\n",
       "    .dataframe thead th {\n",
       "        text-align: right;\n",
       "    }\n",
       "</style>\n",
       "<table border=\"1\" class=\"dataframe\">\n",
       "  <thead>\n",
       "    <tr style=\"text-align: right;\">\n",
       "      <th></th>\n",
       "      <th>Unnamed: 0</th>\n",
       "      <th>Title</th>\n",
       "      <th>Rating</th>\n",
       "      <th>Year</th>\n",
       "      <th>Certification</th>\n",
       "      <th>Genre</th>\n",
       "      <th>Vote</th>\n",
       "      <th>Time</th>\n",
       "    </tr>\n",
       "  </thead>\n",
       "  <tbody>\n",
       "    <tr>\n",
       "      <th>0</th>\n",
       "      <td>0</td>\n",
       "      <td>Superman &amp; Lois</td>\n",
       "      <td>7.8</td>\n",
       "      <td>2021–</td>\n",
       "      <td>Not Rated</td>\n",
       "      <td>Action, Adventure, Drama</td>\n",
       "      <td>36777.0</td>\n",
       "      <td>42 min</td>\n",
       "    </tr>\n",
       "    <tr>\n",
       "      <th>1</th>\n",
       "      <td>1</td>\n",
       "      <td>House of the Dragon</td>\n",
       "      <td>8.5</td>\n",
       "      <td>2022–</td>\n",
       "      <td>A</td>\n",
       "      <td>Action, Adventure, Drama</td>\n",
       "      <td>332779.0</td>\n",
       "      <td>NaN</td>\n",
       "    </tr>\n",
       "    <tr>\n",
       "      <th>2</th>\n",
       "      <td>2</td>\n",
       "      <td>My Adventures with Superman</td>\n",
       "      <td>7.9</td>\n",
       "      <td>2023–</td>\n",
       "      <td>NaN</td>\n",
       "      <td>Animation, Action, Adventure</td>\n",
       "      <td>1058.0</td>\n",
       "      <td>NaN</td>\n",
       "    </tr>\n",
       "    <tr>\n",
       "      <th>3</th>\n",
       "      <td>3</td>\n",
       "      <td>One Piece: Wan pîsu</td>\n",
       "      <td>8.9</td>\n",
       "      <td>1999–</td>\n",
       "      <td>7</td>\n",
       "      <td>Animation, Action, Adventure</td>\n",
       "      <td>149914.0</td>\n",
       "      <td>24 min</td>\n",
       "    </tr>\n",
       "    <tr>\n",
       "      <th>4</th>\n",
       "      <td>4</td>\n",
       "      <td>Kandahar</td>\n",
       "      <td>6.0</td>\n",
       "      <td>2023</td>\n",
       "      <td>R</td>\n",
       "      <td>Action, Thriller</td>\n",
       "      <td>12465.0</td>\n",
       "      <td>119 min</td>\n",
       "    </tr>\n",
       "  </tbody>\n",
       "</table>\n",
       "</div>"
      ],
      "text/plain": [
       "   Unnamed: 0                        Title  Rating    Year Certification  \\\n",
       "0           0              Superman & Lois     7.8  2021–      Not Rated   \n",
       "1           1          House of the Dragon     8.5  2022–              A   \n",
       "2           2  My Adventures with Superman     7.9  2023–            NaN   \n",
       "3           3          One Piece: Wan pîsu     8.9  1999–              7   \n",
       "4           4                     Kandahar     6.0    2023             R   \n",
       "\n",
       "                          Genre      Vote     Time  \n",
       "0      Action, Adventure, Drama   36777.0   42 min  \n",
       "1      Action, Adventure, Drama  332779.0      NaN  \n",
       "2  Animation, Action, Adventure    1058.0      NaN  \n",
       "3  Animation, Action, Adventure  149914.0   24 min  \n",
       "4              Action, Thriller   12465.0  119 min  "
      ]
     },
     "execution_count": 2,
     "metadata": {},
     "output_type": "execute_result"
    }
   ],
   "source": [
    "def data_import(dataset) : \n",
    "\n",
    "    return pd.read_csv(dataset)\n",
    "\n",
    "\n",
    "df  = data_import(\"../Dataset/07_12_2023_11_37_45_imdb.csv\")\n",
    "df.head()"
   ]
  },
  {
   "cell_type": "code",
   "execution_count": 3,
   "metadata": {},
   "outputs": [
    {
     "data": {
      "text/html": [
       "<div>\n",
       "<style scoped>\n",
       "    .dataframe tbody tr th:only-of-type {\n",
       "        vertical-align: middle;\n",
       "    }\n",
       "\n",
       "    .dataframe tbody tr th {\n",
       "        vertical-align: top;\n",
       "    }\n",
       "\n",
       "    .dataframe thead th {\n",
       "        text-align: right;\n",
       "    }\n",
       "</style>\n",
       "<table border=\"1\" class=\"dataframe\">\n",
       "  <thead>\n",
       "    <tr style=\"text-align: right;\">\n",
       "      <th></th>\n",
       "      <th>Title</th>\n",
       "      <th>Rating</th>\n",
       "      <th>Year</th>\n",
       "      <th>Certification</th>\n",
       "      <th>Genre</th>\n",
       "      <th>Vote</th>\n",
       "      <th>Time</th>\n",
       "    </tr>\n",
       "  </thead>\n",
       "  <tbody>\n",
       "    <tr>\n",
       "      <th>0</th>\n",
       "      <td>Superman &amp; Lois</td>\n",
       "      <td>7.8</td>\n",
       "      <td>2021–</td>\n",
       "      <td>Not Rated</td>\n",
       "      <td>Action, Adventure, Drama</td>\n",
       "      <td>36777.0</td>\n",
       "      <td>42 min</td>\n",
       "    </tr>\n",
       "    <tr>\n",
       "      <th>1</th>\n",
       "      <td>House of the Dragon</td>\n",
       "      <td>8.5</td>\n",
       "      <td>2022–</td>\n",
       "      <td>A</td>\n",
       "      <td>Action, Adventure, Drama</td>\n",
       "      <td>332779.0</td>\n",
       "      <td>NaN</td>\n",
       "    </tr>\n",
       "    <tr>\n",
       "      <th>2</th>\n",
       "      <td>My Adventures with Superman</td>\n",
       "      <td>7.9</td>\n",
       "      <td>2023–</td>\n",
       "      <td>NaN</td>\n",
       "      <td>Animation, Action, Adventure</td>\n",
       "      <td>1058.0</td>\n",
       "      <td>NaN</td>\n",
       "    </tr>\n",
       "    <tr>\n",
       "      <th>3</th>\n",
       "      <td>One Piece: Wan pîsu</td>\n",
       "      <td>8.9</td>\n",
       "      <td>1999–</td>\n",
       "      <td>7</td>\n",
       "      <td>Animation, Action, Adventure</td>\n",
       "      <td>149914.0</td>\n",
       "      <td>24 min</td>\n",
       "    </tr>\n",
       "    <tr>\n",
       "      <th>4</th>\n",
       "      <td>Kandahar</td>\n",
       "      <td>6.0</td>\n",
       "      <td>2023</td>\n",
       "      <td>R</td>\n",
       "      <td>Action, Thriller</td>\n",
       "      <td>12465.0</td>\n",
       "      <td>119 min</td>\n",
       "    </tr>\n",
       "  </tbody>\n",
       "</table>\n",
       "</div>"
      ],
      "text/plain": [
       "                         Title  Rating    Year Certification  \\\n",
       "0              Superman & Lois     7.8  2021–      Not Rated   \n",
       "1          House of the Dragon     8.5  2022–              A   \n",
       "2  My Adventures with Superman     7.9  2023–            NaN   \n",
       "3          One Piece: Wan pîsu     8.9  1999–              7   \n",
       "4                     Kandahar     6.0    2023             R   \n",
       "\n",
       "                          Genre      Vote     Time  \n",
       "0      Action, Adventure, Drama   36777.0   42 min  \n",
       "1      Action, Adventure, Drama  332779.0      NaN  \n",
       "2  Animation, Action, Adventure    1058.0      NaN  \n",
       "3  Animation, Action, Adventure  149914.0   24 min  \n",
       "4              Action, Thriller   12465.0  119 min  "
      ]
     },
     "execution_count": 3,
     "metadata": {},
     "output_type": "execute_result"
    }
   ],
   "source": [
    "df = df.drop('Unnamed: 0' ,axis = 1)\n",
    "df.head()"
   ]
  },
  {
   "cell_type": "code",
   "execution_count": 4,
   "metadata": {},
   "outputs": [
    {
     "name": "stdout",
     "output_type": "stream",
     "text": [
      "<class 'pandas.core.frame.DataFrame'>\n",
      "RangeIndex: 5000 entries, 0 to 4999\n",
      "Data columns (total 7 columns):\n",
      " #   Column         Non-Null Count  Dtype  \n",
      "---  ------         --------------  -----  \n",
      " 0   Title          5000 non-null   object \n",
      " 1   Rating         4693 non-null   float64\n",
      " 2   Year           4884 non-null   object \n",
      " 3   Certification  3102 non-null   object \n",
      " 4   Genre          5000 non-null   object \n",
      " 5   Vote           4693 non-null   float64\n",
      " 6   Time           4481 non-null   object \n",
      "dtypes: float64(2), object(5)\n",
      "memory usage: 273.6+ KB\n"
     ]
    }
   ],
   "source": [
    "df.info()"
   ]
  },
  {
   "cell_type": "markdown",
   "metadata": {},
   "source": [
    "1. Rating,Certification,Vote and Time has missing values. Let's fix them. "
   ]
  },
  {
   "cell_type": "code",
   "execution_count": 5,
   "metadata": {},
   "outputs": [
    {
     "data": {
      "text/html": [
       "<div>\n",
       "<style scoped>\n",
       "    .dataframe tbody tr th:only-of-type {\n",
       "        vertical-align: middle;\n",
       "    }\n",
       "\n",
       "    .dataframe tbody tr th {\n",
       "        vertical-align: top;\n",
       "    }\n",
       "\n",
       "    .dataframe thead th {\n",
       "        text-align: right;\n",
       "    }\n",
       "</style>\n",
       "<table border=\"1\" class=\"dataframe\">\n",
       "  <thead>\n",
       "    <tr style=\"text-align: right;\">\n",
       "      <th></th>\n",
       "      <th>Rating</th>\n",
       "      <th>Vote</th>\n",
       "    </tr>\n",
       "  </thead>\n",
       "  <tbody>\n",
       "    <tr>\n",
       "      <th>count</th>\n",
       "      <td>4693.000000</td>\n",
       "      <td>4.693000e+03</td>\n",
       "    </tr>\n",
       "    <tr>\n",
       "      <th>mean</th>\n",
       "      <td>6.466184</td>\n",
       "      <td>7.587556e+04</td>\n",
       "    </tr>\n",
       "    <tr>\n",
       "      <th>std</th>\n",
       "      <td>1.295964</td>\n",
       "      <td>1.665617e+05</td>\n",
       "    </tr>\n",
       "    <tr>\n",
       "      <th>min</th>\n",
       "      <td>1.300000</td>\n",
       "      <td>6.000000e+00</td>\n",
       "    </tr>\n",
       "    <tr>\n",
       "      <th>25%</th>\n",
       "      <td>5.700000</td>\n",
       "      <td>5.018000e+03</td>\n",
       "    </tr>\n",
       "    <tr>\n",
       "      <th>50%</th>\n",
       "      <td>6.500000</td>\n",
       "      <td>1.714100e+04</td>\n",
       "    </tr>\n",
       "    <tr>\n",
       "      <th>75%</th>\n",
       "      <td>7.300000</td>\n",
       "      <td>6.811700e+04</td>\n",
       "    </tr>\n",
       "    <tr>\n",
       "      <th>max</th>\n",
       "      <td>9.800000</td>\n",
       "      <td>2.736993e+06</td>\n",
       "    </tr>\n",
       "  </tbody>\n",
       "</table>\n",
       "</div>"
      ],
      "text/plain": [
       "            Rating          Vote\n",
       "count  4693.000000  4.693000e+03\n",
       "mean      6.466184  7.587556e+04\n",
       "std       1.295964  1.665617e+05\n",
       "min       1.300000  6.000000e+00\n",
       "25%       5.700000  5.018000e+03\n",
       "50%       6.500000  1.714100e+04\n",
       "75%       7.300000  6.811700e+04\n",
       "max       9.800000  2.736993e+06"
      ]
     },
     "execution_count": 5,
     "metadata": {},
     "output_type": "execute_result"
    }
   ],
   "source": [
    "# For Rating and vote. \n",
    "\n",
    "df.describe()"
   ]
  },
  {
   "cell_type": "code",
   "execution_count": 6,
   "metadata": {},
   "outputs": [],
   "source": [
    "rating_mean = df['Rating'].mean()\n",
    "vote_mean = df['Vote'].mean()\n",
    "\n",
    "\n",
    "df['Rating'] = df['Rating'].fillna(rating_mean)\n",
    "df['Vote'] = df['Vote'].fillna(vote_mean)"
   ]
  },
  {
   "cell_type": "code",
   "execution_count": 7,
   "metadata": {},
   "outputs": [],
   "source": [
    "df['Vote'] = df['Vote'].astype(int)"
   ]
  },
  {
   "cell_type": "code",
   "execution_count": 8,
   "metadata": {},
   "outputs": [],
   "source": [
    "df['Year'] = df['Year'].str.extract(r'(\\d+)')\n"
   ]
  },
  {
   "cell_type": "code",
   "execution_count": 9,
   "metadata": {},
   "outputs": [],
   "source": [
    "year_mode = df['Year'].mode()[0]\n",
    "\n",
    "\n",
    "df['Year'] = df['Year'].fillna(year_mode)"
   ]
  },
  {
   "cell_type": "code",
   "execution_count": 10,
   "metadata": {},
   "outputs": [
    {
     "name": "stdout",
     "output_type": "stream",
     "text": [
      "<class 'pandas.core.frame.DataFrame'>\n",
      "RangeIndex: 5000 entries, 0 to 4999\n",
      "Data columns (total 7 columns):\n",
      " #   Column         Non-Null Count  Dtype  \n",
      "---  ------         --------------  -----  \n",
      " 0   Title          5000 non-null   object \n",
      " 1   Rating         5000 non-null   float64\n",
      " 2   Year           5000 non-null   object \n",
      " 3   Certification  3102 non-null   object \n",
      " 4   Genre          5000 non-null   object \n",
      " 5   Vote           5000 non-null   int32  \n",
      " 6   Time           4481 non-null   object \n",
      "dtypes: float64(1), int32(1), object(5)\n",
      "memory usage: 254.0+ KB\n"
     ]
    }
   ],
   "source": [
    "\n",
    "df.info()"
   ]
  },
  {
   "cell_type": "code",
   "execution_count": 11,
   "metadata": {},
   "outputs": [],
   "source": [
    "df['Time'] = df['Time'].str.extract(r'(\\d+)')\n"
   ]
  },
  {
   "cell_type": "code",
   "execution_count": 16,
   "metadata": {},
   "outputs": [],
   "source": [
    "time_mode = df['Time'].mode()[0]\n",
    "\n",
    "df['Time'] = df['Time'].fillna(time_mode)"
   ]
  },
  {
   "cell_type": "code",
   "execution_count": 13,
   "metadata": {},
   "outputs": [],
   "source": [
    "df['Certification'] = df['Certification'].replace(np.nan , 'Not Rated')"
   ]
  },
  {
   "cell_type": "code",
   "execution_count": 22,
   "metadata": {},
   "outputs": [
    {
     "name": "stdout",
     "output_type": "stream",
     "text": [
      "<class 'pandas.core.frame.DataFrame'>\n",
      "RangeIndex: 5000 entries, 0 to 4999\n",
      "Data columns (total 7 columns):\n",
      " #   Column         Non-Null Count  Dtype  \n",
      "---  ------         --------------  -----  \n",
      " 0   Title          5000 non-null   object \n",
      " 1   Rating         5000 non-null   float64\n",
      " 2   Year           5000 non-null   int32  \n",
      " 3   Certification  5000 non-null   object \n",
      " 4   Genre          5000 non-null   object \n",
      " 5   Vote           5000 non-null   int32  \n",
      " 6   Time           5000 non-null   int32  \n",
      "dtypes: float64(1), int32(3), object(3)\n",
      "memory usage: 215.0+ KB\n"
     ]
    }
   ],
   "source": [
    "df.info()"
   ]
  },
  {
   "cell_type": "code",
   "execution_count": 18,
   "metadata": {},
   "outputs": [],
   "source": [
    "df.to_csv('../Cleaned Dataset/cleaned_df.csv')"
   ]
  }
 ],
 "metadata": {
  "kernelspec": {
   "display_name": "minimal_ds",
   "language": "python",
   "name": "python3"
  },
  "language_info": {
   "codemirror_mode": {
    "name": "ipython",
    "version": 3
   },
   "file_extension": ".py",
   "mimetype": "text/x-python",
   "name": "python",
   "nbconvert_exporter": "python",
   "pygments_lexer": "ipython3",
   "version": "3.10.12"
  },
  "orig_nbformat": 4
 },
 "nbformat": 4,
 "nbformat_minor": 2
}
